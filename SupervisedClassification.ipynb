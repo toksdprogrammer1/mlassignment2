{
 "cells": [
  {
   "cell_type": "code",
   "execution_count": 32,
   "outputs": [
    {
     "data": {
      "text/plain": "'\\nAuthor\\nJohan Tejning  - jote16@student.bth.se\\nTokunbo Ojo    -  tooj21@student.bth.se\\n'"
     },
     "execution_count": 32,
     "metadata": {},
     "output_type": "execute_result"
    }
   ],
   "source": [
    "\"\"\"\n",
    "Author\n",
    "Johan Tejning  - jote16@student.bth.se\n",
    "Tokunbo Ojo    -  tooj21@student.bth.se\n",
    "\"\"\""
   ],
   "metadata": {
    "collapsed": false,
    "pycharm": {
     "name": "#%%\n"
    }
   }
  },
  {
   "cell_type": "code",
   "execution_count": 33,
   "outputs": [],
   "source": [
    "#Import libraries\n",
    "from scipy import stats\n",
    "from scipy.stats import studentized_range\n",
    "import pandas as pd\n",
    "import numpy as np\n",
    "from sklearn.model_selection import StratifiedKFold\n",
    "from sklearn.preprocessing import KBinsDiscretizer\n",
    "from sklearn.model_selection import train_test_split\n",
    "from sklearn.neighbors import KNeighborsClassifier\n",
    "from sklearn.svm import SVC\n",
    "from sklearn.naive_bayes import GaussianNB\n",
    "from sklearn.metrics import f1_score, accuracy_score\n",
    "from sklearn.model_selection import KFold\n",
    "from sklearn.model_selection import cross_val_score\n",
    "import scipy.stats\n",
    "import matplotlib.pyplot as plt\n",
    "from matplotlib.colors import ListedColormap\n",
    "import time\n",
    "import math"
   ],
   "metadata": {
    "collapsed": false,
    "pycharm": {
     "name": "#%%\n"
    }
   }
  },
  {
   "cell_type": "code",
   "execution_count": 34,
   "outputs": [
    {
     "data": {
      "text/plain": "        0     1     2    3     4     5     6     7     8     9   ...     48  \\\n0     0.00  0.64  0.64  0.0  0.32  0.00  0.00  0.00  0.00  0.00  ...  0.000   \n1     0.21  0.28  0.50  0.0  0.14  0.28  0.21  0.07  0.00  0.94  ...  0.000   \n2     0.06  0.00  0.71  0.0  1.23  0.19  0.19  0.12  0.64  0.25  ...  0.010   \n3     0.00  0.00  0.00  0.0  0.63  0.00  0.31  0.63  0.31  0.63  ...  0.000   \n4     0.00  0.00  0.00  0.0  0.63  0.00  0.31  0.63  0.31  0.63  ...  0.000   \n...    ...   ...   ...  ...   ...   ...   ...   ...   ...   ...  ...    ...   \n4596  0.31  0.00  0.62  0.0  0.00  0.31  0.00  0.00  0.00  0.00  ...  0.000   \n4597  0.00  0.00  0.00  0.0  0.00  0.00  0.00  0.00  0.00  0.00  ...  0.000   \n4598  0.30  0.00  0.30  0.0  0.00  0.00  0.00  0.00  0.00  0.00  ...  0.102   \n4599  0.96  0.00  0.00  0.0  0.32  0.00  0.00  0.00  0.00  0.00  ...  0.000   \n4600  0.00  0.00  0.65  0.0  0.00  0.00  0.00  0.00  0.00  0.00  ...  0.000   \n\n         49   50     51     52     53     54   55    56  57  \n0     0.000  0.0  0.778  0.000  0.000  3.756   61   278   1  \n1     0.132  0.0  0.372  0.180  0.048  5.114  101  1028   1  \n2     0.143  0.0  0.276  0.184  0.010  9.821  485  2259   1  \n3     0.137  0.0  0.137  0.000  0.000  3.537   40   191   1  \n4     0.135  0.0  0.135  0.000  0.000  3.537   40   191   1  \n...     ...  ...    ...    ...    ...    ...  ...   ...  ..  \n4596  0.232  0.0  0.000  0.000  0.000  1.142    3    88   0  \n4597  0.000  0.0  0.353  0.000  0.000  1.555    4    14   0  \n4598  0.718  0.0  0.000  0.000  0.000  1.404    6   118   0  \n4599  0.057  0.0  0.000  0.000  0.000  1.147    5    78   0  \n4600  0.000  0.0  0.125  0.000  0.000  1.250    5    40   0  \n\n[4601 rows x 58 columns]",
      "text/html": "<div>\n<style scoped>\n    .dataframe tbody tr th:only-of-type {\n        vertical-align: middle;\n    }\n\n    .dataframe tbody tr th {\n        vertical-align: top;\n    }\n\n    .dataframe thead th {\n        text-align: right;\n    }\n</style>\n<table border=\"1\" class=\"dataframe\">\n  <thead>\n    <tr style=\"text-align: right;\">\n      <th></th>\n      <th>0</th>\n      <th>1</th>\n      <th>2</th>\n      <th>3</th>\n      <th>4</th>\n      <th>5</th>\n      <th>6</th>\n      <th>7</th>\n      <th>8</th>\n      <th>9</th>\n      <th>...</th>\n      <th>48</th>\n      <th>49</th>\n      <th>50</th>\n      <th>51</th>\n      <th>52</th>\n      <th>53</th>\n      <th>54</th>\n      <th>55</th>\n      <th>56</th>\n      <th>57</th>\n    </tr>\n  </thead>\n  <tbody>\n    <tr>\n      <th>0</th>\n      <td>0.00</td>\n      <td>0.64</td>\n      <td>0.64</td>\n      <td>0.0</td>\n      <td>0.32</td>\n      <td>0.00</td>\n      <td>0.00</td>\n      <td>0.00</td>\n      <td>0.00</td>\n      <td>0.00</td>\n      <td>...</td>\n      <td>0.000</td>\n      <td>0.000</td>\n      <td>0.0</td>\n      <td>0.778</td>\n      <td>0.000</td>\n      <td>0.000</td>\n      <td>3.756</td>\n      <td>61</td>\n      <td>278</td>\n      <td>1</td>\n    </tr>\n    <tr>\n      <th>1</th>\n      <td>0.21</td>\n      <td>0.28</td>\n      <td>0.50</td>\n      <td>0.0</td>\n      <td>0.14</td>\n      <td>0.28</td>\n      <td>0.21</td>\n      <td>0.07</td>\n      <td>0.00</td>\n      <td>0.94</td>\n      <td>...</td>\n      <td>0.000</td>\n      <td>0.132</td>\n      <td>0.0</td>\n      <td>0.372</td>\n      <td>0.180</td>\n      <td>0.048</td>\n      <td>5.114</td>\n      <td>101</td>\n      <td>1028</td>\n      <td>1</td>\n    </tr>\n    <tr>\n      <th>2</th>\n      <td>0.06</td>\n      <td>0.00</td>\n      <td>0.71</td>\n      <td>0.0</td>\n      <td>1.23</td>\n      <td>0.19</td>\n      <td>0.19</td>\n      <td>0.12</td>\n      <td>0.64</td>\n      <td>0.25</td>\n      <td>...</td>\n      <td>0.010</td>\n      <td>0.143</td>\n      <td>0.0</td>\n      <td>0.276</td>\n      <td>0.184</td>\n      <td>0.010</td>\n      <td>9.821</td>\n      <td>485</td>\n      <td>2259</td>\n      <td>1</td>\n    </tr>\n    <tr>\n      <th>3</th>\n      <td>0.00</td>\n      <td>0.00</td>\n      <td>0.00</td>\n      <td>0.0</td>\n      <td>0.63</td>\n      <td>0.00</td>\n      <td>0.31</td>\n      <td>0.63</td>\n      <td>0.31</td>\n      <td>0.63</td>\n      <td>...</td>\n      <td>0.000</td>\n      <td>0.137</td>\n      <td>0.0</td>\n      <td>0.137</td>\n      <td>0.000</td>\n      <td>0.000</td>\n      <td>3.537</td>\n      <td>40</td>\n      <td>191</td>\n      <td>1</td>\n    </tr>\n    <tr>\n      <th>4</th>\n      <td>0.00</td>\n      <td>0.00</td>\n      <td>0.00</td>\n      <td>0.0</td>\n      <td>0.63</td>\n      <td>0.00</td>\n      <td>0.31</td>\n      <td>0.63</td>\n      <td>0.31</td>\n      <td>0.63</td>\n      <td>...</td>\n      <td>0.000</td>\n      <td>0.135</td>\n      <td>0.0</td>\n      <td>0.135</td>\n      <td>0.000</td>\n      <td>0.000</td>\n      <td>3.537</td>\n      <td>40</td>\n      <td>191</td>\n      <td>1</td>\n    </tr>\n    <tr>\n      <th>...</th>\n      <td>...</td>\n      <td>...</td>\n      <td>...</td>\n      <td>...</td>\n      <td>...</td>\n      <td>...</td>\n      <td>...</td>\n      <td>...</td>\n      <td>...</td>\n      <td>...</td>\n      <td>...</td>\n      <td>...</td>\n      <td>...</td>\n      <td>...</td>\n      <td>...</td>\n      <td>...</td>\n      <td>...</td>\n      <td>...</td>\n      <td>...</td>\n      <td>...</td>\n      <td>...</td>\n    </tr>\n    <tr>\n      <th>4596</th>\n      <td>0.31</td>\n      <td>0.00</td>\n      <td>0.62</td>\n      <td>0.0</td>\n      <td>0.00</td>\n      <td>0.31</td>\n      <td>0.00</td>\n      <td>0.00</td>\n      <td>0.00</td>\n      <td>0.00</td>\n      <td>...</td>\n      <td>0.000</td>\n      <td>0.232</td>\n      <td>0.0</td>\n      <td>0.000</td>\n      <td>0.000</td>\n      <td>0.000</td>\n      <td>1.142</td>\n      <td>3</td>\n      <td>88</td>\n      <td>0</td>\n    </tr>\n    <tr>\n      <th>4597</th>\n      <td>0.00</td>\n      <td>0.00</td>\n      <td>0.00</td>\n      <td>0.0</td>\n      <td>0.00</td>\n      <td>0.00</td>\n      <td>0.00</td>\n      <td>0.00</td>\n      <td>0.00</td>\n      <td>0.00</td>\n      <td>...</td>\n      <td>0.000</td>\n      <td>0.000</td>\n      <td>0.0</td>\n      <td>0.353</td>\n      <td>0.000</td>\n      <td>0.000</td>\n      <td>1.555</td>\n      <td>4</td>\n      <td>14</td>\n      <td>0</td>\n    </tr>\n    <tr>\n      <th>4598</th>\n      <td>0.30</td>\n      <td>0.00</td>\n      <td>0.30</td>\n      <td>0.0</td>\n      <td>0.00</td>\n      <td>0.00</td>\n      <td>0.00</td>\n      <td>0.00</td>\n      <td>0.00</td>\n      <td>0.00</td>\n      <td>...</td>\n      <td>0.102</td>\n      <td>0.718</td>\n      <td>0.0</td>\n      <td>0.000</td>\n      <td>0.000</td>\n      <td>0.000</td>\n      <td>1.404</td>\n      <td>6</td>\n      <td>118</td>\n      <td>0</td>\n    </tr>\n    <tr>\n      <th>4599</th>\n      <td>0.96</td>\n      <td>0.00</td>\n      <td>0.00</td>\n      <td>0.0</td>\n      <td>0.32</td>\n      <td>0.00</td>\n      <td>0.00</td>\n      <td>0.00</td>\n      <td>0.00</td>\n      <td>0.00</td>\n      <td>...</td>\n      <td>0.000</td>\n      <td>0.057</td>\n      <td>0.0</td>\n      <td>0.000</td>\n      <td>0.000</td>\n      <td>0.000</td>\n      <td>1.147</td>\n      <td>5</td>\n      <td>78</td>\n      <td>0</td>\n    </tr>\n    <tr>\n      <th>4600</th>\n      <td>0.00</td>\n      <td>0.00</td>\n      <td>0.65</td>\n      <td>0.0</td>\n      <td>0.00</td>\n      <td>0.00</td>\n      <td>0.00</td>\n      <td>0.00</td>\n      <td>0.00</td>\n      <td>0.00</td>\n      <td>...</td>\n      <td>0.000</td>\n      <td>0.000</td>\n      <td>0.0</td>\n      <td>0.125</td>\n      <td>0.000</td>\n      <td>0.000</td>\n      <td>1.250</td>\n      <td>5</td>\n      <td>40</td>\n      <td>0</td>\n    </tr>\n  </tbody>\n</table>\n<p>4601 rows × 58 columns</p>\n</div>"
     },
     "execution_count": 34,
     "metadata": {},
     "output_type": "execute_result"
    }
   ],
   "source": [
    "#Read spambase.data into pandas dataframe\n",
    "df = pd.read_csv('spambase.data',header = None)\n",
    "df"
   ],
   "metadata": {
    "collapsed": false,
    "pycharm": {
     "name": "#%%\n"
    }
   }
  },
  {
   "cell_type": "code",
   "execution_count": 35,
   "outputs": [],
   "source": [
    "x = df.iloc[:, 0:57]\n",
    "y = df[57]"
   ],
   "metadata": {
    "collapsed": false,
    "pycharm": {
     "name": "#%%\n"
    }
   }
  },
  {
   "cell_type": "code",
   "execution_count": 36,
   "outputs": [],
   "source": [
    "# create discretizer for Equal Width Discretizer\n",
    "kbins = KBinsDiscretizer(n_bins=5, strategy='uniform', encode='ordinal')"
   ],
   "metadata": {
    "collapsed": false,
    "pycharm": {
     "name": "#%%\n"
    }
   }
  },
  {
   "cell_type": "code",
   "execution_count": 37,
   "outputs": [
    {
     "data": {
      "text/plain": "0       1\n1       1\n2       1\n3       1\n4       1\n       ..\n4596    0\n4597    0\n4598    0\n4599    0\n4600    0\nName: 57, Length: 4601, dtype: int64"
     },
     "execution_count": 37,
     "metadata": {},
     "output_type": "execute_result"
    }
   ],
   "source": [
    "# Equal-Width Discretization implementation\n",
    "def descretize(data):\n",
    "    frames = []\n",
    "    for i in range(0,57):\n",
    "        bin = kbins.fit_transform(np.array(data.iloc[:, i:i + 1]).reshape(-1,1))\n",
    "        frames.append(pd.DataFrame(bin, columns=[str(i)]))\n",
    "    return pd.concat(frames, axis=1)\n",
    "df = descretize(x)\n",
    "df[57] = y\n",
    "df[57]"
   ],
   "metadata": {
    "collapsed": false,
    "pycharm": {
     "name": "#%%\n"
    }
   }
  },
  {
   "cell_type": "code",
   "execution_count": 38,
   "outputs": [],
   "source": [
    "names = [\n",
    "    \"Nearest Neighbors\",\n",
    "    \"Linear SVM\",\n",
    "   # \"Decision Tree\",\n",
    "   # \"Random Forest\",\n",
    "    \"Naive Bayes\"\n",
    "]\n",
    "\n",
    "classifiers = [\n",
    "    KNeighborsClassifier(3),\n",
    "    SVC(kernel=\"linear\", C=0.025),\n",
    "  #  DecisionTreeClassifier(max_depth=5),\n",
    "  #  RandomForestClassifier(max_depth=5, n_estimators=10, max_features=1),\n",
    "    GaussianNB()\n",
    "]"
   ],
   "metadata": {
    "collapsed": false,
    "pycharm": {
     "name": "#%%\n"
    }
   }
  },
  {
   "cell_type": "code",
   "execution_count": 39,
   "outputs": [],
   "source": [
    "# iterate over classifiers\n",
    "performance = {\"Nearest Neighbors\" : [], \"Linear SVM\": [], \"Naive Bayes\": []}\n",
    "accuracy = {\"Nearest Neighbors\" : [], \"Linear SVM\": [], \"Naive Bayes\": []}\n",
    "f_measure = {\"Nearest Neighbors\" : [], \"Linear SVM\": [], \"Naive Bayes\": []}\n",
    "fold = []\n",
    "\n",
    "def train_model(train, test, fold_no):\n",
    "    X_train = train.iloc[:, 0:57]\n",
    "    y_train = train[57]\n",
    "    X_test = test.iloc[:, 0:57]\n",
    "    y_test = test[57]\n",
    "    for name, clf in zip(names, classifiers):\n",
    "        start = time.time()\n",
    "        clf.fit(X_train, y_train)\n",
    "        end = time.time()\n",
    "        performance[name].append(end - start)\n",
    "        y_pred = clf.predict(X_test) # make predictions on test set\n",
    "        acc = accuracy_score(y_test.values, y_pred)\n",
    "        accuracy[name].append(acc)\n",
    "        f_score = f1_score(y_test.values, y_pred)\n",
    "        f_measure[name].append(f_score)\n",
    "    fold.append(fold_no)\n",
    "\n"
   ],
   "metadata": {
    "collapsed": false,
    "pycharm": {
     "name": "#%%\n"
    }
   }
  },
  {
   "cell_type": "code",
   "execution_count": 40,
   "outputs": [],
   "source": [
    "# Initialise a StratifiedKFold object and declare the number of splits we want, which in our case is 10.\n",
    "skf = StratifiedKFold(n_splits=10)\n",
    "fold_no = 1\n",
    "\n",
    "for train_index, test_index in skf.split(df, df[57]):\n",
    "    train = df.loc[train_index,:]\n",
    "    test = df.loc[test_index,:]\n",
    "    train_model(train, test, fold_no)\n",
    "    fold_no += 1\n"
   ],
   "metadata": {
    "collapsed": false,
    "pycharm": {
     "name": "#%%\n"
    }
   }
  },
  {
   "cell_type": "code",
   "execution_count": 41,
   "outputs": [],
   "source": [
    "def calculate_rank(metrics):\n",
    "    rank1 = []\n",
    "    rank2 = []\n",
    "    rank3 = []\n",
    "    for index, row in metrics.iterrows():\n",
    "        temp = row.copy()\n",
    "        sorted = -np.sort(-temp.values)\n",
    "        rank1.append(sorted.tolist().index(row[0]) + 1)\n",
    "        rank2.append(sorted.tolist().index(row[1]) + 1)\n",
    "        rank3.append(sorted.tolist().index(row[2]) + 1)\n",
    "\n",
    "        result = {}\n",
    "    result[\"Nearest Neighbors\"] = rank1\n",
    "    result[\"Linear SVM\"] = rank2\n",
    "    result[\"Naive Bayes\"] = rank3\n",
    "    ranking_df = pd.DataFrame.from_dict(result)\n",
    "    return ranking_df"
   ],
   "metadata": {
    "collapsed": false,
    "pycharm": {
     "name": "#%%\n"
    }
   }
  },
  {
   "cell_type": "code",
   "execution_count": 42,
   "outputs": [
    {
     "data": {
      "text/plain": "    Nearest Neighbors  Linear SVM  Naive Bayes\n1            0.007046    0.573260     0.004305\n2            0.006795    0.528586     0.003283\n3            0.006208    0.502713     0.003837\n4            0.006921    0.521131     0.003158\n5            0.006081    0.525922     0.003268\n6            0.006971    0.566432     0.003206\n7            0.005294    0.506429     0.003127\n8            0.006242    0.509151     0.003066\n9            0.006109    0.492861     0.003051\n10           0.005303    0.504378     0.003083",
      "text/html": "<div>\n<style scoped>\n    .dataframe tbody tr th:only-of-type {\n        vertical-align: middle;\n    }\n\n    .dataframe tbody tr th {\n        vertical-align: top;\n    }\n\n    .dataframe thead th {\n        text-align: right;\n    }\n</style>\n<table border=\"1\" class=\"dataframe\">\n  <thead>\n    <tr style=\"text-align: right;\">\n      <th></th>\n      <th>Nearest Neighbors</th>\n      <th>Linear SVM</th>\n      <th>Naive Bayes</th>\n    </tr>\n  </thead>\n  <tbody>\n    <tr>\n      <th>1</th>\n      <td>0.007046</td>\n      <td>0.573260</td>\n      <td>0.004305</td>\n    </tr>\n    <tr>\n      <th>2</th>\n      <td>0.006795</td>\n      <td>0.528586</td>\n      <td>0.003283</td>\n    </tr>\n    <tr>\n      <th>3</th>\n      <td>0.006208</td>\n      <td>0.502713</td>\n      <td>0.003837</td>\n    </tr>\n    <tr>\n      <th>4</th>\n      <td>0.006921</td>\n      <td>0.521131</td>\n      <td>0.003158</td>\n    </tr>\n    <tr>\n      <th>5</th>\n      <td>0.006081</td>\n      <td>0.525922</td>\n      <td>0.003268</td>\n    </tr>\n    <tr>\n      <th>6</th>\n      <td>0.006971</td>\n      <td>0.566432</td>\n      <td>0.003206</td>\n    </tr>\n    <tr>\n      <th>7</th>\n      <td>0.005294</td>\n      <td>0.506429</td>\n      <td>0.003127</td>\n    </tr>\n    <tr>\n      <th>8</th>\n      <td>0.006242</td>\n      <td>0.509151</td>\n      <td>0.003066</td>\n    </tr>\n    <tr>\n      <th>9</th>\n      <td>0.006109</td>\n      <td>0.492861</td>\n      <td>0.003051</td>\n    </tr>\n    <tr>\n      <th>10</th>\n      <td>0.005303</td>\n      <td>0.504378</td>\n      <td>0.003083</td>\n    </tr>\n  </tbody>\n</table>\n</div>"
     },
     "execution_count": 42,
     "metadata": {},
     "output_type": "execute_result"
    }
   ],
   "source": [
    "#1) computational performance in terms of training time,\n",
    "training_time_metrics = pd.DataFrame(performance, index = fold)\n",
    "training_time_metrics"
   ],
   "metadata": {
    "collapsed": false,
    "pycharm": {
     "name": "#%%\n"
    }
   }
  },
  {
   "cell_type": "code",
   "execution_count": 43,
   "outputs": [
    {
     "data": {
      "text/plain": "   Nearest Neighbors  Linear SVM  Naive Bayes\n0                  2           1            3\n1                  2           1            3\n2                  2           1            3\n3                  2           1            3\n4                  2           1            3\n5                  2           1            3\n6                  2           1            3\n7                  2           1            3\n8                  2           1            3\n9                  2           1            3",
      "text/html": "<div>\n<style scoped>\n    .dataframe tbody tr th:only-of-type {\n        vertical-align: middle;\n    }\n\n    .dataframe tbody tr th {\n        vertical-align: top;\n    }\n\n    .dataframe thead th {\n        text-align: right;\n    }\n</style>\n<table border=\"1\" class=\"dataframe\">\n  <thead>\n    <tr style=\"text-align: right;\">\n      <th></th>\n      <th>Nearest Neighbors</th>\n      <th>Linear SVM</th>\n      <th>Naive Bayes</th>\n    </tr>\n  </thead>\n  <tbody>\n    <tr>\n      <th>0</th>\n      <td>2</td>\n      <td>1</td>\n      <td>3</td>\n    </tr>\n    <tr>\n      <th>1</th>\n      <td>2</td>\n      <td>1</td>\n      <td>3</td>\n    </tr>\n    <tr>\n      <th>2</th>\n      <td>2</td>\n      <td>1</td>\n      <td>3</td>\n    </tr>\n    <tr>\n      <th>3</th>\n      <td>2</td>\n      <td>1</td>\n      <td>3</td>\n    </tr>\n    <tr>\n      <th>4</th>\n      <td>2</td>\n      <td>1</td>\n      <td>3</td>\n    </tr>\n    <tr>\n      <th>5</th>\n      <td>2</td>\n      <td>1</td>\n      <td>3</td>\n    </tr>\n    <tr>\n      <th>6</th>\n      <td>2</td>\n      <td>1</td>\n      <td>3</td>\n    </tr>\n    <tr>\n      <th>7</th>\n      <td>2</td>\n      <td>1</td>\n      <td>3</td>\n    </tr>\n    <tr>\n      <th>8</th>\n      <td>2</td>\n      <td>1</td>\n      <td>3</td>\n    </tr>\n    <tr>\n      <th>9</th>\n      <td>2</td>\n      <td>1</td>\n      <td>3</td>\n    </tr>\n  </tbody>\n</table>\n</div>"
     },
     "execution_count": 43,
     "metadata": {},
     "output_type": "execute_result"
    }
   ],
   "source": [
    "#Calculate the ranks of training time metrics\n",
    "training_time_metrics_ranking = calculate_rank(training_time_metrics)\n",
    "training_time_metrics_ranking"
   ],
   "metadata": {
    "collapsed": false,
    "pycharm": {
     "name": "#%%\n"
    }
   }
  },
  {
   "cell_type": "code",
   "execution_count": 44,
   "outputs": [
    {
     "data": {
      "text/plain": "    Nearest Neighbors  Linear SVM  Naive Bayes\n1            0.544469    0.676790     0.548807\n2            0.571739    0.739130     0.567391\n3            0.571739    0.682609     0.580435\n4            0.595652    0.695652     0.569565\n5            0.630435    0.747826     0.641304\n6            0.571739    0.736957     0.565217\n7            0.645652    0.769565     0.652174\n8            0.552174    0.697826     0.567391\n9            0.482609    0.663043     0.476087\n10           0.486957    0.693478     0.484783",
      "text/html": "<div>\n<style scoped>\n    .dataframe tbody tr th:only-of-type {\n        vertical-align: middle;\n    }\n\n    .dataframe tbody tr th {\n        vertical-align: top;\n    }\n\n    .dataframe thead th {\n        text-align: right;\n    }\n</style>\n<table border=\"1\" class=\"dataframe\">\n  <thead>\n    <tr style=\"text-align: right;\">\n      <th></th>\n      <th>Nearest Neighbors</th>\n      <th>Linear SVM</th>\n      <th>Naive Bayes</th>\n    </tr>\n  </thead>\n  <tbody>\n    <tr>\n      <th>1</th>\n      <td>0.544469</td>\n      <td>0.676790</td>\n      <td>0.548807</td>\n    </tr>\n    <tr>\n      <th>2</th>\n      <td>0.571739</td>\n      <td>0.739130</td>\n      <td>0.567391</td>\n    </tr>\n    <tr>\n      <th>3</th>\n      <td>0.571739</td>\n      <td>0.682609</td>\n      <td>0.580435</td>\n    </tr>\n    <tr>\n      <th>4</th>\n      <td>0.595652</td>\n      <td>0.695652</td>\n      <td>0.569565</td>\n    </tr>\n    <tr>\n      <th>5</th>\n      <td>0.630435</td>\n      <td>0.747826</td>\n      <td>0.641304</td>\n    </tr>\n    <tr>\n      <th>6</th>\n      <td>0.571739</td>\n      <td>0.736957</td>\n      <td>0.565217</td>\n    </tr>\n    <tr>\n      <th>7</th>\n      <td>0.645652</td>\n      <td>0.769565</td>\n      <td>0.652174</td>\n    </tr>\n    <tr>\n      <th>8</th>\n      <td>0.552174</td>\n      <td>0.697826</td>\n      <td>0.567391</td>\n    </tr>\n    <tr>\n      <th>9</th>\n      <td>0.482609</td>\n      <td>0.663043</td>\n      <td>0.476087</td>\n    </tr>\n    <tr>\n      <th>10</th>\n      <td>0.486957</td>\n      <td>0.693478</td>\n      <td>0.484783</td>\n    </tr>\n  </tbody>\n</table>\n</div>"
     },
     "execution_count": 44,
     "metadata": {},
     "output_type": "execute_result"
    }
   ],
   "source": [
    "#) predictive performance based on accuracy,\n",
    "accuracy_metrics = pd.DataFrame(accuracy, index = fold)\n",
    "accuracy_metrics"
   ],
   "metadata": {
    "collapsed": false,
    "pycharm": {
     "name": "#%%\n"
    }
   }
  },
  {
   "cell_type": "code",
   "execution_count": 45,
   "outputs": [
    {
     "data": {
      "text/plain": "   Nearest Neighbors  Linear SVM  Naive Bayes\n0                  3           1            2\n1                  2           1            3\n2                  3           1            2\n3                  2           1            3\n4                  3           1            2\n5                  2           1            3\n6                  3           1            2\n7                  3           1            2\n8                  2           1            3\n9                  2           1            3",
      "text/html": "<div>\n<style scoped>\n    .dataframe tbody tr th:only-of-type {\n        vertical-align: middle;\n    }\n\n    .dataframe tbody tr th {\n        vertical-align: top;\n    }\n\n    .dataframe thead th {\n        text-align: right;\n    }\n</style>\n<table border=\"1\" class=\"dataframe\">\n  <thead>\n    <tr style=\"text-align: right;\">\n      <th></th>\n      <th>Nearest Neighbors</th>\n      <th>Linear SVM</th>\n      <th>Naive Bayes</th>\n    </tr>\n  </thead>\n  <tbody>\n    <tr>\n      <th>0</th>\n      <td>3</td>\n      <td>1</td>\n      <td>2</td>\n    </tr>\n    <tr>\n      <th>1</th>\n      <td>2</td>\n      <td>1</td>\n      <td>3</td>\n    </tr>\n    <tr>\n      <th>2</th>\n      <td>3</td>\n      <td>1</td>\n      <td>2</td>\n    </tr>\n    <tr>\n      <th>3</th>\n      <td>2</td>\n      <td>1</td>\n      <td>3</td>\n    </tr>\n    <tr>\n      <th>4</th>\n      <td>3</td>\n      <td>1</td>\n      <td>2</td>\n    </tr>\n    <tr>\n      <th>5</th>\n      <td>2</td>\n      <td>1</td>\n      <td>3</td>\n    </tr>\n    <tr>\n      <th>6</th>\n      <td>3</td>\n      <td>1</td>\n      <td>2</td>\n    </tr>\n    <tr>\n      <th>7</th>\n      <td>3</td>\n      <td>1</td>\n      <td>2</td>\n    </tr>\n    <tr>\n      <th>8</th>\n      <td>2</td>\n      <td>1</td>\n      <td>3</td>\n    </tr>\n    <tr>\n      <th>9</th>\n      <td>2</td>\n      <td>1</td>\n      <td>3</td>\n    </tr>\n  </tbody>\n</table>\n</div>"
     },
     "execution_count": 45,
     "metadata": {},
     "output_type": "execute_result"
    }
   ],
   "source": [
    "#Calculate the ranks of accuracy metrics\n",
    "accuracy_metrics_ranking = calculate_rank(accuracy_metrics)\n",
    "accuracy_metrics_ranking"
   ],
   "metadata": {
    "collapsed": false,
    "pycharm": {
     "name": "#%%\n"
    }
   }
  },
  {
   "cell_type": "code",
   "execution_count": 46,
   "outputs": [
    {
     "data": {
      "text/plain": "    Nearest Neighbors  Linear SVM  Naive Bayes\n1            0.620939    0.391837     0.628571\n2            0.647585    0.562044     0.646536\n3            0.646320    0.438462     0.652252\n4            0.655556    0.440000     0.642599\n5            0.674330    0.570370     0.683301\n6            0.645045    0.566308     0.644128\n7            0.688337    0.589147     0.692308\n8            0.629496    0.441767     0.641441\n9            0.595238    0.436364     0.596315\n10           0.601351    0.442688     0.600337",
      "text/html": "<div>\n<style scoped>\n    .dataframe tbody tr th:only-of-type {\n        vertical-align: middle;\n    }\n\n    .dataframe tbody tr th {\n        vertical-align: top;\n    }\n\n    .dataframe thead th {\n        text-align: right;\n    }\n</style>\n<table border=\"1\" class=\"dataframe\">\n  <thead>\n    <tr style=\"text-align: right;\">\n      <th></th>\n      <th>Nearest Neighbors</th>\n      <th>Linear SVM</th>\n      <th>Naive Bayes</th>\n    </tr>\n  </thead>\n  <tbody>\n    <tr>\n      <th>1</th>\n      <td>0.620939</td>\n      <td>0.391837</td>\n      <td>0.628571</td>\n    </tr>\n    <tr>\n      <th>2</th>\n      <td>0.647585</td>\n      <td>0.562044</td>\n      <td>0.646536</td>\n    </tr>\n    <tr>\n      <th>3</th>\n      <td>0.646320</td>\n      <td>0.438462</td>\n      <td>0.652252</td>\n    </tr>\n    <tr>\n      <th>4</th>\n      <td>0.655556</td>\n      <td>0.440000</td>\n      <td>0.642599</td>\n    </tr>\n    <tr>\n      <th>5</th>\n      <td>0.674330</td>\n      <td>0.570370</td>\n      <td>0.683301</td>\n    </tr>\n    <tr>\n      <th>6</th>\n      <td>0.645045</td>\n      <td>0.566308</td>\n      <td>0.644128</td>\n    </tr>\n    <tr>\n      <th>7</th>\n      <td>0.688337</td>\n      <td>0.589147</td>\n      <td>0.692308</td>\n    </tr>\n    <tr>\n      <th>8</th>\n      <td>0.629496</td>\n      <td>0.441767</td>\n      <td>0.641441</td>\n    </tr>\n    <tr>\n      <th>9</th>\n      <td>0.595238</td>\n      <td>0.436364</td>\n      <td>0.596315</td>\n    </tr>\n    <tr>\n      <th>10</th>\n      <td>0.601351</td>\n      <td>0.442688</td>\n      <td>0.600337</td>\n    </tr>\n  </tbody>\n</table>\n</div>"
     },
     "execution_count": 46,
     "metadata": {},
     "output_type": "execute_result"
    }
   ],
   "source": [
    "#3) predictive performance based on F-measure.\n",
    "f_measure_metrics = pd.DataFrame(f_measure, index = fold)\n",
    "f_measure_metrics"
   ],
   "metadata": {
    "collapsed": false,
    "pycharm": {
     "name": "#%%\n"
    }
   }
  },
  {
   "cell_type": "code",
   "execution_count": 47,
   "outputs": [
    {
     "data": {
      "text/plain": "   Nearest Neighbors  Linear SVM  Naive Bayes\n0                  2           3            1\n1                  1           3            2\n2                  2           3            1\n3                  1           3            2\n4                  2           3            1\n5                  1           3            2\n6                  2           3            1\n7                  2           3            1\n8                  2           3            1\n9                  1           3            2",
      "text/html": "<div>\n<style scoped>\n    .dataframe tbody tr th:only-of-type {\n        vertical-align: middle;\n    }\n\n    .dataframe tbody tr th {\n        vertical-align: top;\n    }\n\n    .dataframe thead th {\n        text-align: right;\n    }\n</style>\n<table border=\"1\" class=\"dataframe\">\n  <thead>\n    <tr style=\"text-align: right;\">\n      <th></th>\n      <th>Nearest Neighbors</th>\n      <th>Linear SVM</th>\n      <th>Naive Bayes</th>\n    </tr>\n  </thead>\n  <tbody>\n    <tr>\n      <th>0</th>\n      <td>2</td>\n      <td>3</td>\n      <td>1</td>\n    </tr>\n    <tr>\n      <th>1</th>\n      <td>1</td>\n      <td>3</td>\n      <td>2</td>\n    </tr>\n    <tr>\n      <th>2</th>\n      <td>2</td>\n      <td>3</td>\n      <td>1</td>\n    </tr>\n    <tr>\n      <th>3</th>\n      <td>1</td>\n      <td>3</td>\n      <td>2</td>\n    </tr>\n    <tr>\n      <th>4</th>\n      <td>2</td>\n      <td>3</td>\n      <td>1</td>\n    </tr>\n    <tr>\n      <th>5</th>\n      <td>1</td>\n      <td>3</td>\n      <td>2</td>\n    </tr>\n    <tr>\n      <th>6</th>\n      <td>2</td>\n      <td>3</td>\n      <td>1</td>\n    </tr>\n    <tr>\n      <th>7</th>\n      <td>2</td>\n      <td>3</td>\n      <td>1</td>\n    </tr>\n    <tr>\n      <th>8</th>\n      <td>2</td>\n      <td>3</td>\n      <td>1</td>\n    </tr>\n    <tr>\n      <th>9</th>\n      <td>1</td>\n      <td>3</td>\n      <td>2</td>\n    </tr>\n  </tbody>\n</table>\n</div>"
     },
     "execution_count": 47,
     "metadata": {},
     "output_type": "execute_result"
    }
   ],
   "source": [
    "#Calculate the ranks of f measure metrics\n",
    "f_measure_metrics_ranking = calculate_rank(f_measure_metrics)\n",
    "f_measure_metrics_ranking"
   ],
   "metadata": {
    "collapsed": false,
    "pycharm": {
     "name": "#%%\n"
    }
   }
  },
  {
   "cell_type": "code",
   "execution_count": 48,
   "outputs": [
    {
     "data": {
      "text/plain": "Nearest Neighbors    2.0\nLinear SVM           1.0\nNaive Bayes          3.0\ndtype: float64"
     },
     "execution_count": 48,
     "metadata": {},
     "output_type": "execute_result"
    }
   ],
   "source": [
    "rank_avg_training_time_metrics = training_time_metrics_ranking.mean(axis=0)\n",
    "rank_avg_training_time_metrics"
   ],
   "metadata": {
    "collapsed": false,
    "pycharm": {
     "name": "#%%\n"
    }
   }
  },
  {
   "cell_type": "code",
   "execution_count": 49,
   "outputs": [
    {
     "data": {
      "text/plain": "Nearest Neighbors    2.5\nLinear SVM           1.0\nNaive Bayes          2.5\ndtype: float64"
     },
     "execution_count": 49,
     "metadata": {},
     "output_type": "execute_result"
    }
   ],
   "source": [
    "rank_avg_accuracy_metrics = accuracy_metrics_ranking.mean(axis=0)\n",
    "rank_avg_accuracy_metrics"
   ],
   "metadata": {
    "collapsed": false,
    "pycharm": {
     "name": "#%%\n"
    }
   }
  },
  {
   "cell_type": "code",
   "execution_count": 50,
   "outputs": [
    {
     "data": {
      "text/plain": "Nearest Neighbors    1.6\nLinear SVM           3.0\nNaive Bayes          1.4\ndtype: float64"
     },
     "execution_count": 50,
     "metadata": {},
     "output_type": "execute_result"
    }
   ],
   "source": [
    "rank_avg_f_measure_metrics = f_measure_metrics_ranking.mean(axis=0)\n",
    "rank_avg_f_measure_metrics"
   ],
   "metadata": {
    "collapsed": false,
    "pycharm": {
     "name": "#%%\n"
    }
   }
  },
  {
   "cell_type": "code",
   "execution_count": 51,
   "outputs": [],
   "source": [
    "#Finding the sum of squared differences\n",
    "def sum_of_squared_differences_1(rank_avg):\n",
    "    sum = 0\n",
    "    for x in rank_avg.values:\n",
    "        sum = sum + (x - 2) ** 2\n",
    "    sum_of_squared_differences_1 = 10 * sum\n",
    "    return sum_of_squared_differences_1"
   ],
   "metadata": {
    "collapsed": false,
    "pycharm": {
     "name": "#%%\n"
    }
   }
  },
  {
   "cell_type": "code",
   "execution_count": 52,
   "outputs": [],
   "source": [
    "#Finding the sum of squared differences 2\n",
    "def sum_of_squared_differences_2(ranking_df):\n",
    "    summation = 0\n",
    "    for index, row in ranking_df.iterrows():\n",
    "        summation = summation + ((row[0] - 2) ** 2) + ((row[1] - 2) ** 2) + ((row[2] - 2) ** 2)\n",
    "    sum_of_squared_differences_2 = summation * 0.05\n",
    "    return sum_of_squared_differences_2"
   ],
   "metadata": {
    "collapsed": false,
    "pycharm": {
     "name": "#%%\n"
    }
   }
  },
  {
   "cell_type": "code",
   "execution_count": 53,
   "outputs": [
    {
     "data": {
      "text/plain": "7.814727903251179"
     },
     "execution_count": 53,
     "metadata": {},
     "output_type": "execute_result"
    }
   ],
   "source": [
    "#Finding p-value\n",
    "p_value = scipy.stats.chi2.ppf(0.95, 3)\n",
    "p_value"
   ],
   "metadata": {
    "collapsed": false,
    "pycharm": {
     "name": "#%%\n"
    }
   }
  },
  {
   "cell_type": "code",
   "execution_count": 54,
   "outputs": [],
   "source": [
    "def friedman_statistic(rank_avg, ranking_df):\n",
    "    friedman_statistic = sum_of_squared_differences_1(rank_avg) / sum_of_squared_differences_2(ranking_df)\n",
    "    decision = \"greater than \" if friedman_statistic > p_value else \"less than \"\n",
    "    decision2 = \"can \" if friedman_statistic > p_value else \"can no \"\n",
    "    print(\"Since the Friedman statistic \" + str(friedman_statistic) + \" is \" + decision + str(p_value) + \" so we \" + decision2 + \"reject the null hypothesis that all algorithms perform equally\")"
   ],
   "metadata": {
    "collapsed": false,
    "pycharm": {
     "name": "#%%\n"
    }
   }
  },
  {
   "cell_type": "code",
   "execution_count": 55,
   "outputs": [
    {
     "name": "stdout",
     "output_type": "stream",
     "text": [
      "Since the Friedman statistic 20.0 is greater than 7.814727903251179 so we can reject the null hypothesis that all algorithms perform equally\n"
     ]
    }
   ],
   "source": [
    "# Training time metrics Friedman statistic\n",
    "friedman_statistic(rank_avg_training_time_metrics, training_time_metrics_ranking)"
   ],
   "metadata": {
    "collapsed": false,
    "pycharm": {
     "name": "#%%\n"
    }
   }
  },
  {
   "cell_type": "code",
   "execution_count": 56,
   "outputs": [
    {
     "name": "stdout",
     "output_type": "stream",
     "text": [
      "Since the Friedman statistic 15.0 is greater than 7.814727903251179 so we can reject the null hypothesis that all algorithms perform equally\n"
     ]
    }
   ],
   "source": [
    "# Accuracy metrics Friedman statistic\n",
    "friedman_statistic(rank_avg_accuracy_metrics, accuracy_metrics_ranking)"
   ],
   "metadata": {
    "collapsed": false,
    "pycharm": {
     "name": "#%%\n"
    }
   }
  },
  {
   "cell_type": "code",
   "execution_count": 57,
   "outputs": [
    {
     "name": "stdout",
     "output_type": "stream",
     "text": [
      "Since the Friedman statistic 15.2 is greater than 7.814727903251179 so we can reject the null hypothesis that all algorithms perform equally\n"
     ]
    }
   ],
   "source": [
    "# F Measure metrics Friedman statistic\n",
    "friedman_statistic(rank_avg_f_measure_metrics, f_measure_metrics_ranking)"
   ],
   "metadata": {
    "collapsed": false,
    "pycharm": {
     "name": "#%%\n"
    }
   }
  },
  {
   "cell_type": "code",
   "execution_count": 58,
   "outputs": [
    {
     "data": {
      "text/plain": "1.0478214542564015"
     },
     "execution_count": 58,
     "metadata": {},
     "output_type": "execute_result"
    }
   ],
   "source": [
    "#Finding critical difference (CD) using Nemenyi test\n",
    "#The q alpha 2.343 is taken from the course textbook and also from this link https://plos.figshare.com/articles/dataset/Critical_values_for_the_two-tailed_Nemenyi_test_/7299293/1\n",
    "#k = 3, n =  10\n",
    "\n",
    "cd = 2.343 * math.sqrt(3 * (3 + 1) / (6 * 10))\n",
    "cd"
   ],
   "metadata": {
    "collapsed": false,
    "pycharm": {
     "name": "#%%\n"
    }
   }
  },
  {
   "cell_type": "code",
   "execution_count": 59,
   "outputs": [],
   "source": [
    "#Nearest Neighbors - rank_avg[0]\n",
    "#Linear SVM - rank_avg[1]\n",
    "#Naive Bayes - rank_avg[2]\n",
    "def critical_difference(rank_avg):\n",
    "    no_of_means__of_ranks = len(rank_avg)\n",
    "    for i in range(no_of_means__of_ranks - 1):\n",
    "        for j in range(i + 1, no_of_means__of_ranks):\n",
    "            diff = abs(rank_avg[i] - rank_avg[j])\n",
    "            decision = \" and it exceeds the critical difference \" if diff > cd else \" and does not exceeds the critical difference \"\n",
    "            print(\"The difference of \" + rank_avg.index[i] + \" - \" + str(rank_avg[i])  + \" and \" + rank_avg.index[j] + \" - \" + str(rank_avg[j]) + \" is \" + str(diff) +  decision + str(cd))\n"
   ],
   "metadata": {
    "collapsed": false,
    "pycharm": {
     "name": "#%%\n"
    }
   }
  },
  {
   "cell_type": "code",
   "execution_count": 60,
   "outputs": [
    {
     "name": "stdout",
     "output_type": "stream",
     "text": [
      "The difference of Nearest Neighbors - 2.0 and Linear SVM - 1.0 is 1.0 and does not exceeds the critical difference 1.0478214542564015\n",
      "The difference of Nearest Neighbors - 2.0 and Naive Bayes - 3.0 is 1.0 and does not exceeds the critical difference 1.0478214542564015\n",
      "The difference of Linear SVM - 1.0 and Naive Bayes - 3.0 is 2.0 and it exceeds the critical difference 1.0478214542564015\n"
     ]
    }
   ],
   "source": [
    "# Training time metrics Nemenyi test\n",
    "critical_difference(rank_avg_training_time_metrics)"
   ],
   "metadata": {
    "collapsed": false,
    "pycharm": {
     "name": "#%%\n"
    }
   }
  },
  {
   "cell_type": "code",
   "execution_count": 61,
   "outputs": [
    {
     "name": "stdout",
     "output_type": "stream",
     "text": [
      "The difference of Nearest Neighbors - 2.5 and Linear SVM - 1.0 is 1.5 and it exceeds the critical difference 1.0478214542564015\n",
      "The difference of Nearest Neighbors - 2.5 and Naive Bayes - 2.5 is 0.0 and does not exceeds the critical difference 1.0478214542564015\n",
      "The difference of Linear SVM - 1.0 and Naive Bayes - 2.5 is 1.5 and it exceeds the critical difference 1.0478214542564015\n"
     ]
    }
   ],
   "source": [
    "# Accuracy metrics Nemenyi test\n",
    "critical_difference(rank_avg_accuracy_metrics)"
   ],
   "metadata": {
    "collapsed": false,
    "pycharm": {
     "name": "#%%\n"
    }
   }
  },
  {
   "cell_type": "code",
   "execution_count": 62,
   "outputs": [
    {
     "name": "stdout",
     "output_type": "stream",
     "text": [
      "The difference of Nearest Neighbors - 1.6 and Linear SVM - 3.0 is 1.4 and it exceeds the critical difference 1.0478214542564015\n",
      "The difference of Nearest Neighbors - 1.6 and Naive Bayes - 1.4 is 0.20000000000000018 and does not exceeds the critical difference 1.0478214542564015\n",
      "The difference of Linear SVM - 3.0 and Naive Bayes - 1.4 is 1.6 and it exceeds the critical difference 1.0478214542564015\n"
     ]
    }
   ],
   "source": [
    "# F Measure Nemenyi test\n",
    "critical_difference(rank_avg_f_measure_metrics)"
   ],
   "metadata": {
    "collapsed": false,
    "pycharm": {
     "name": "#%%\n"
    }
   }
  },
  {
   "cell_type": "code",
   "execution_count": 62,
   "outputs": [],
   "source": [],
   "metadata": {
    "collapsed": false,
    "pycharm": {
     "name": "#%%\n"
    }
   }
  }
 ],
 "metadata": {
  "kernelspec": {
   "display_name": "Python 3",
   "language": "python",
   "name": "python3"
  },
  "language_info": {
   "codemirror_mode": {
    "name": "ipython",
    "version": 2
   },
   "file_extension": ".py",
   "mimetype": "text/x-python",
   "name": "python",
   "nbconvert_exporter": "python",
   "pygments_lexer": "ipython2",
   "version": "2.7.6"
  }
 },
 "nbformat": 4,
 "nbformat_minor": 0
}