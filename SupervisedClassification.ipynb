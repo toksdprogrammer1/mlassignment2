{
 "cells": [
  {
   "cell_type": "code",
   "execution_count": 85,
   "outputs": [
    {
     "data": {
      "text/plain": "'\\nAuthor\\nJohan Tejning  - jote16@student.bth.se\\nTokunbo Ojo    -  tooj21@student.bth.se\\n'"
     },
     "execution_count": 85,
     "metadata": {},
     "output_type": "execute_result"
    }
   ],
   "source": [
    "\"\"\"\n",
    "Author\n",
    "Johan Tejning  - jote16@student.bth.se\n",
    "Tokunbo Ojo    -  tooj21@student.bth.se\n",
    "\"\"\""
   ],
   "metadata": {
    "collapsed": false,
    "pycharm": {
     "name": "#%%\n"
    }
   }
  },
  {
   "cell_type": "code",
   "execution_count": 32,
   "outputs": [],
   "source": [
    "#Import libraries\n",
    "from scipy import stats\n",
    "from scipy.stats import studentized_range\n",
    "import pandas as pd\n",
    "import numpy as np\n",
    "from sklearn.model_selection import StratifiedKFold\n",
    "from sklearn.preprocessing import KBinsDiscretizer\n",
    "from sklearn.model_selection import train_test_split\n",
    "from sklearn.neighbors import KNeighborsClassifier\n",
    "from sklearn.svm import SVC\n",
    "from sklearn.naive_bayes import GaussianNB\n",
    "from sklearn.metrics import f1_score, accuracy_score\n",
    "from sklearn.model_selection import KFold\n",
    "from sklearn.model_selection import cross_val_score\n",
    "import scipy.stats\n",
    "import matplotlib.pyplot as plt\n",
    "from matplotlib.colors import ListedColormap\n",
    "import time\n",
    "import math"
   ],
   "metadata": {
    "collapsed": false,
    "pycharm": {
     "name": "#%%\n"
    }
   }
  },
  {
   "cell_type": "code",
   "execution_count": 37,
   "outputs": [
    {
     "data": {
      "text/plain": "        0     1     2    3     4     5     6     7     8     9   ...     48  \\\n0     0.00  0.64  0.64  0.0  0.32  0.00  0.00  0.00  0.00  0.00  ...  0.000   \n1     0.21  0.28  0.50  0.0  0.14  0.28  0.21  0.07  0.00  0.94  ...  0.000   \n2     0.06  0.00  0.71  0.0  1.23  0.19  0.19  0.12  0.64  0.25  ...  0.010   \n3     0.00  0.00  0.00  0.0  0.63  0.00  0.31  0.63  0.31  0.63  ...  0.000   \n4     0.00  0.00  0.00  0.0  0.63  0.00  0.31  0.63  0.31  0.63  ...  0.000   \n...    ...   ...   ...  ...   ...   ...   ...   ...   ...   ...  ...    ...   \n4596  0.31  0.00  0.62  0.0  0.00  0.31  0.00  0.00  0.00  0.00  ...  0.000   \n4597  0.00  0.00  0.00  0.0  0.00  0.00  0.00  0.00  0.00  0.00  ...  0.000   \n4598  0.30  0.00  0.30  0.0  0.00  0.00  0.00  0.00  0.00  0.00  ...  0.102   \n4599  0.96  0.00  0.00  0.0  0.32  0.00  0.00  0.00  0.00  0.00  ...  0.000   \n4600  0.00  0.00  0.65  0.0  0.00  0.00  0.00  0.00  0.00  0.00  ...  0.000   \n\n         49   50     51     52     53     54   55    56  57  \n0     0.000  0.0  0.778  0.000  0.000  3.756   61   278   1  \n1     0.132  0.0  0.372  0.180  0.048  5.114  101  1028   1  \n2     0.143  0.0  0.276  0.184  0.010  9.821  485  2259   1  \n3     0.137  0.0  0.137  0.000  0.000  3.537   40   191   1  \n4     0.135  0.0  0.135  0.000  0.000  3.537   40   191   1  \n...     ...  ...    ...    ...    ...    ...  ...   ...  ..  \n4596  0.232  0.0  0.000  0.000  0.000  1.142    3    88   0  \n4597  0.000  0.0  0.353  0.000  0.000  1.555    4    14   0  \n4598  0.718  0.0  0.000  0.000  0.000  1.404    6   118   0  \n4599  0.057  0.0  0.000  0.000  0.000  1.147    5    78   0  \n4600  0.000  0.0  0.125  0.000  0.000  1.250    5    40   0  \n\n[4601 rows x 58 columns]",
      "text/html": "<div>\n<style scoped>\n    .dataframe tbody tr th:only-of-type {\n        vertical-align: middle;\n    }\n\n    .dataframe tbody tr th {\n        vertical-align: top;\n    }\n\n    .dataframe thead th {\n        text-align: right;\n    }\n</style>\n<table border=\"1\" class=\"dataframe\">\n  <thead>\n    <tr style=\"text-align: right;\">\n      <th></th>\n      <th>0</th>\n      <th>1</th>\n      <th>2</th>\n      <th>3</th>\n      <th>4</th>\n      <th>5</th>\n      <th>6</th>\n      <th>7</th>\n      <th>8</th>\n      <th>9</th>\n      <th>...</th>\n      <th>48</th>\n      <th>49</th>\n      <th>50</th>\n      <th>51</th>\n      <th>52</th>\n      <th>53</th>\n      <th>54</th>\n      <th>55</th>\n      <th>56</th>\n      <th>57</th>\n    </tr>\n  </thead>\n  <tbody>\n    <tr>\n      <th>0</th>\n      <td>0.00</td>\n      <td>0.64</td>\n      <td>0.64</td>\n      <td>0.0</td>\n      <td>0.32</td>\n      <td>0.00</td>\n      <td>0.00</td>\n      <td>0.00</td>\n      <td>0.00</td>\n      <td>0.00</td>\n      <td>...</td>\n      <td>0.000</td>\n      <td>0.000</td>\n      <td>0.0</td>\n      <td>0.778</td>\n      <td>0.000</td>\n      <td>0.000</td>\n      <td>3.756</td>\n      <td>61</td>\n      <td>278</td>\n      <td>1</td>\n    </tr>\n    <tr>\n      <th>1</th>\n      <td>0.21</td>\n      <td>0.28</td>\n      <td>0.50</td>\n      <td>0.0</td>\n      <td>0.14</td>\n      <td>0.28</td>\n      <td>0.21</td>\n      <td>0.07</td>\n      <td>0.00</td>\n      <td>0.94</td>\n      <td>...</td>\n      <td>0.000</td>\n      <td>0.132</td>\n      <td>0.0</td>\n      <td>0.372</td>\n      <td>0.180</td>\n      <td>0.048</td>\n      <td>5.114</td>\n      <td>101</td>\n      <td>1028</td>\n      <td>1</td>\n    </tr>\n    <tr>\n      <th>2</th>\n      <td>0.06</td>\n      <td>0.00</td>\n      <td>0.71</td>\n      <td>0.0</td>\n      <td>1.23</td>\n      <td>0.19</td>\n      <td>0.19</td>\n      <td>0.12</td>\n      <td>0.64</td>\n      <td>0.25</td>\n      <td>...</td>\n      <td>0.010</td>\n      <td>0.143</td>\n      <td>0.0</td>\n      <td>0.276</td>\n      <td>0.184</td>\n      <td>0.010</td>\n      <td>9.821</td>\n      <td>485</td>\n      <td>2259</td>\n      <td>1</td>\n    </tr>\n    <tr>\n      <th>3</th>\n      <td>0.00</td>\n      <td>0.00</td>\n      <td>0.00</td>\n      <td>0.0</td>\n      <td>0.63</td>\n      <td>0.00</td>\n      <td>0.31</td>\n      <td>0.63</td>\n      <td>0.31</td>\n      <td>0.63</td>\n      <td>...</td>\n      <td>0.000</td>\n      <td>0.137</td>\n      <td>0.0</td>\n      <td>0.137</td>\n      <td>0.000</td>\n      <td>0.000</td>\n      <td>3.537</td>\n      <td>40</td>\n      <td>191</td>\n      <td>1</td>\n    </tr>\n    <tr>\n      <th>4</th>\n      <td>0.00</td>\n      <td>0.00</td>\n      <td>0.00</td>\n      <td>0.0</td>\n      <td>0.63</td>\n      <td>0.00</td>\n      <td>0.31</td>\n      <td>0.63</td>\n      <td>0.31</td>\n      <td>0.63</td>\n      <td>...</td>\n      <td>0.000</td>\n      <td>0.135</td>\n      <td>0.0</td>\n      <td>0.135</td>\n      <td>0.000</td>\n      <td>0.000</td>\n      <td>3.537</td>\n      <td>40</td>\n      <td>191</td>\n      <td>1</td>\n    </tr>\n    <tr>\n      <th>...</th>\n      <td>...</td>\n      <td>...</td>\n      <td>...</td>\n      <td>...</td>\n      <td>...</td>\n      <td>...</td>\n      <td>...</td>\n      <td>...</td>\n      <td>...</td>\n      <td>...</td>\n      <td>...</td>\n      <td>...</td>\n      <td>...</td>\n      <td>...</td>\n      <td>...</td>\n      <td>...</td>\n      <td>...</td>\n      <td>...</td>\n      <td>...</td>\n      <td>...</td>\n      <td>...</td>\n    </tr>\n    <tr>\n      <th>4596</th>\n      <td>0.31</td>\n      <td>0.00</td>\n      <td>0.62</td>\n      <td>0.0</td>\n      <td>0.00</td>\n      <td>0.31</td>\n      <td>0.00</td>\n      <td>0.00</td>\n      <td>0.00</td>\n      <td>0.00</td>\n      <td>...</td>\n      <td>0.000</td>\n      <td>0.232</td>\n      <td>0.0</td>\n      <td>0.000</td>\n      <td>0.000</td>\n      <td>0.000</td>\n      <td>1.142</td>\n      <td>3</td>\n      <td>88</td>\n      <td>0</td>\n    </tr>\n    <tr>\n      <th>4597</th>\n      <td>0.00</td>\n      <td>0.00</td>\n      <td>0.00</td>\n      <td>0.0</td>\n      <td>0.00</td>\n      <td>0.00</td>\n      <td>0.00</td>\n      <td>0.00</td>\n      <td>0.00</td>\n      <td>0.00</td>\n      <td>...</td>\n      <td>0.000</td>\n      <td>0.000</td>\n      <td>0.0</td>\n      <td>0.353</td>\n      <td>0.000</td>\n      <td>0.000</td>\n      <td>1.555</td>\n      <td>4</td>\n      <td>14</td>\n      <td>0</td>\n    </tr>\n    <tr>\n      <th>4598</th>\n      <td>0.30</td>\n      <td>0.00</td>\n      <td>0.30</td>\n      <td>0.0</td>\n      <td>0.00</td>\n      <td>0.00</td>\n      <td>0.00</td>\n      <td>0.00</td>\n      <td>0.00</td>\n      <td>0.00</td>\n      <td>...</td>\n      <td>0.102</td>\n      <td>0.718</td>\n      <td>0.0</td>\n      <td>0.000</td>\n      <td>0.000</td>\n      <td>0.000</td>\n      <td>1.404</td>\n      <td>6</td>\n      <td>118</td>\n      <td>0</td>\n    </tr>\n    <tr>\n      <th>4599</th>\n      <td>0.96</td>\n      <td>0.00</td>\n      <td>0.00</td>\n      <td>0.0</td>\n      <td>0.32</td>\n      <td>0.00</td>\n      <td>0.00</td>\n      <td>0.00</td>\n      <td>0.00</td>\n      <td>0.00</td>\n      <td>...</td>\n      <td>0.000</td>\n      <td>0.057</td>\n      <td>0.0</td>\n      <td>0.000</td>\n      <td>0.000</td>\n      <td>0.000</td>\n      <td>1.147</td>\n      <td>5</td>\n      <td>78</td>\n      <td>0</td>\n    </tr>\n    <tr>\n      <th>4600</th>\n      <td>0.00</td>\n      <td>0.00</td>\n      <td>0.65</td>\n      <td>0.0</td>\n      <td>0.00</td>\n      <td>0.00</td>\n      <td>0.00</td>\n      <td>0.00</td>\n      <td>0.00</td>\n      <td>0.00</td>\n      <td>...</td>\n      <td>0.000</td>\n      <td>0.000</td>\n      <td>0.0</td>\n      <td>0.125</td>\n      <td>0.000</td>\n      <td>0.000</td>\n      <td>1.250</td>\n      <td>5</td>\n      <td>40</td>\n      <td>0</td>\n    </tr>\n  </tbody>\n</table>\n<p>4601 rows × 58 columns</p>\n</div>"
     },
     "execution_count": 37,
     "metadata": {},
     "output_type": "execute_result"
    }
   ],
   "source": [
    "#Read spambase.data into pandas dataframe\n",
    "df = pd.read_csv('spambase.data',header = None)\n",
    "df"
   ],
   "metadata": {
    "collapsed": false,
    "pycharm": {
     "name": "#%%\n"
    }
   }
  },
  {
   "cell_type": "code",
   "execution_count": 4,
   "outputs": [],
   "source": [
    "# split time serie into train and test\n",
    "# x = df.iloc[:, 0:57]\n",
    "# y = df[57]\n",
    "# X_train, X_test, y_train, y_test = train_test_split(x, y, test_size = 0.2, random_state = 0)"
   ],
   "metadata": {
    "collapsed": false,
    "pycharm": {
     "name": "#%%\n"
    }
   }
  },
  {
   "cell_type": "code",
   "execution_count": 5,
   "outputs": [],
   "source": [
    "# create discretizer for Equal Width Discretizer\n",
    "# kbins = KBinsDiscretizer(n_bins=2, strategy='uniform', encode='ordinal')"
   ],
   "metadata": {
    "collapsed": false,
    "pycharm": {
     "name": "#%%\n"
    }
   }
  },
  {
   "cell_type": "code",
   "execution_count": 26,
   "outputs": [],
   "source": [
    "# Equal-Width Discretization implementation\n",
    "# def descretize(data):\n",
    "#     frames = []\n",
    "#     for i in range(0,57):\n",
    "#         bin = kbins.fit_transform(np.array(data.iloc[:, i:i + 1]).reshape(-1,1))\n",
    "#         frames.append(pd.DataFrame(bin, columns=[str(i)]))\n",
    "#     return pd.concat(frames, axis=1)\n",
    "# X_train = descretize(X_train)\n",
    "# X_test = descretize(X_test)\n",
    "# X_train"
   ],
   "metadata": {
    "collapsed": false,
    "pycharm": {
     "name": "#%%\n"
    }
   }
  },
  {
   "cell_type": "code",
   "execution_count": 38,
   "outputs": [],
   "source": [
    "names = [\n",
    "    \"Nearest Neighbors\",\n",
    "    \"Linear SVM\",\n",
    "   # \"Decision Tree\",\n",
    "   # \"Random Forest\",\n",
    "    \"Naive Bayes\"\n",
    "]\n",
    "\n",
    "classifiers = [\n",
    "    KNeighborsClassifier(3),\n",
    "    SVC(kernel=\"linear\", C=0.025),\n",
    "  #  DecisionTreeClassifier(max_depth=5),\n",
    "  #  RandomForestClassifier(max_depth=5, n_estimators=10, max_features=1),\n",
    "    GaussianNB()\n",
    "]"
   ],
   "metadata": {
    "collapsed": false,
    "pycharm": {
     "name": "#%%\n"
    }
   }
  },
  {
   "cell_type": "code",
   "execution_count": 39,
   "outputs": [],
   "source": [
    "# iterate over classifiers\n",
    "performance = {\"Nearest Neighbors\" : [], \"Linear SVM\": [], \"Naive Bayes\": []}\n",
    "accuracy = {\"Nearest Neighbors\" : [], \"Linear SVM\": [], \"Naive Bayes\": []}\n",
    "f_measure = {\"Nearest Neighbors\" : [], \"Linear SVM\": [], \"Naive Bayes\": []}\n",
    "fold = []\n",
    "\n",
    "def train_model(train, test, fold_no):\n",
    "    X_train = train.iloc[:, 0:57]\n",
    "    y_train = train[57]\n",
    "    X_test = test.iloc[:, 0:57]\n",
    "    y_test = test[57]\n",
    "    for name, clf in zip(names, classifiers):\n",
    "        start = time.time()\n",
    "        clf.fit(X_train, y_train)\n",
    "        end = time.time()\n",
    "        performance[name].append(end - start)\n",
    "        y_pred = clf.predict(X_test) # make predictions on test set\n",
    "        acc = accuracy_score(y_test.values, y_pred)\n",
    "        accuracy[name].append(acc)\n",
    "        f_score = f1_score(y_test.values, y_pred)\n",
    "        f_measure[name].append(f_score)\n",
    "    fold.append(fold_no)\n",
    "\n"
   ],
   "metadata": {
    "collapsed": false,
    "pycharm": {
     "name": "#%%\n"
    }
   }
  },
  {
   "cell_type": "code",
   "execution_count": 40,
   "outputs": [],
   "source": [
    "# Initialise a StratifiedKFold object and declare the number of splits we want, which in our case is 10.\n",
    "skf = StratifiedKFold(n_splits=10)\n",
    "fold_no = 1\n",
    "\n",
    "for train_index, test_index in skf.split(df, df[57]):\n",
    "    train = df.loc[train_index,:]\n",
    "    test = df.loc[test_index,:]\n",
    "    train_model(train, test, fold_no)\n",
    "    fold_no += 1\n"
   ],
   "metadata": {
    "collapsed": false,
    "pycharm": {
     "name": "#%%\n"
    }
   }
  },
  {
   "cell_type": "code",
   "execution_count": 79,
   "outputs": [],
   "source": [
    "def calculate_rank(metrics):\n",
    "    rank1 = []\n",
    "    rank2 = []\n",
    "    rank3 = []\n",
    "    for index, row in metrics.iterrows():\n",
    "        temp = row.copy()\n",
    "        sorted = -np.sort(-temp.values)\n",
    "        rank1.append(sorted.tolist().index(row[0]) + 1)\n",
    "        rank2.append(sorted.tolist().index(row[1]) + 1)\n",
    "        rank3.append(sorted.tolist().index(row[2]) + 1)\n",
    "\n",
    "        result = {}\n",
    "    result[\"Nearest Neighbors\"] = rank1\n",
    "    result[\"Linear SVM\"] = rank2\n",
    "    result[\"Naive Bayes\"] = rank3\n",
    "    ranking_df = pd.DataFrame.from_dict(result)\n",
    "    return ranking_df"
   ],
   "metadata": {
    "collapsed": false,
    "pycharm": {
     "name": "#%%\n"
    }
   }
  },
  {
   "cell_type": "code",
   "execution_count": 81,
   "outputs": [
    {
     "data": {
      "text/plain": "    Nearest Neighbors  Linear SVM  Naive Bayes\n1            0.005303    9.664300     0.004280\n2            0.002474   13.350164     0.004630\n3            0.001748   14.689101     0.004194\n4            0.001662    6.764337     0.004360\n5            0.001661    4.452735     0.004698\n6            0.002009   14.721831     0.004494\n7            0.001590    9.260936     0.004147\n8            0.001652    9.320597     0.004821\n9            0.002174    9.154779     0.004679\n10           0.001652    9.983524     0.004074",
      "text/html": "<div>\n<style scoped>\n    .dataframe tbody tr th:only-of-type {\n        vertical-align: middle;\n    }\n\n    .dataframe tbody tr th {\n        vertical-align: top;\n    }\n\n    .dataframe thead th {\n        text-align: right;\n    }\n</style>\n<table border=\"1\" class=\"dataframe\">\n  <thead>\n    <tr style=\"text-align: right;\">\n      <th></th>\n      <th>Nearest Neighbors</th>\n      <th>Linear SVM</th>\n      <th>Naive Bayes</th>\n    </tr>\n  </thead>\n  <tbody>\n    <tr>\n      <th>1</th>\n      <td>0.005303</td>\n      <td>9.664300</td>\n      <td>0.004280</td>\n    </tr>\n    <tr>\n      <th>2</th>\n      <td>0.002474</td>\n      <td>13.350164</td>\n      <td>0.004630</td>\n    </tr>\n    <tr>\n      <th>3</th>\n      <td>0.001748</td>\n      <td>14.689101</td>\n      <td>0.004194</td>\n    </tr>\n    <tr>\n      <th>4</th>\n      <td>0.001662</td>\n      <td>6.764337</td>\n      <td>0.004360</td>\n    </tr>\n    <tr>\n      <th>5</th>\n      <td>0.001661</td>\n      <td>4.452735</td>\n      <td>0.004698</td>\n    </tr>\n    <tr>\n      <th>6</th>\n      <td>0.002009</td>\n      <td>14.721831</td>\n      <td>0.004494</td>\n    </tr>\n    <tr>\n      <th>7</th>\n      <td>0.001590</td>\n      <td>9.260936</td>\n      <td>0.004147</td>\n    </tr>\n    <tr>\n      <th>8</th>\n      <td>0.001652</td>\n      <td>9.320597</td>\n      <td>0.004821</td>\n    </tr>\n    <tr>\n      <th>9</th>\n      <td>0.002174</td>\n      <td>9.154779</td>\n      <td>0.004679</td>\n    </tr>\n    <tr>\n      <th>10</th>\n      <td>0.001652</td>\n      <td>9.983524</td>\n      <td>0.004074</td>\n    </tr>\n  </tbody>\n</table>\n</div>"
     },
     "execution_count": 81,
     "metadata": {},
     "output_type": "execute_result"
    }
   ],
   "source": [
    "#1) computational performance in terms of training time,\n",
    "training_time_metrics = pd.DataFrame(performance, index = fold)\n",
    "training_time_metrics"
   ],
   "metadata": {
    "collapsed": false,
    "pycharm": {
     "name": "#%%\n"
    }
   }
  },
  {
   "cell_type": "code",
   "execution_count": 82,
   "outputs": [
    {
     "data": {
      "text/plain": "   Nearest Neighbors  Linear SVM  Naive Bayes\n0                  2           1            3\n1                  3           1            2\n2                  3           1            2\n3                  3           1            2\n4                  3           1            2\n5                  3           1            2\n6                  3           1            2\n7                  3           1            2\n8                  3           1            2\n9                  3           1            2",
      "text/html": "<div>\n<style scoped>\n    .dataframe tbody tr th:only-of-type {\n        vertical-align: middle;\n    }\n\n    .dataframe tbody tr th {\n        vertical-align: top;\n    }\n\n    .dataframe thead th {\n        text-align: right;\n    }\n</style>\n<table border=\"1\" class=\"dataframe\">\n  <thead>\n    <tr style=\"text-align: right;\">\n      <th></th>\n      <th>Nearest Neighbors</th>\n      <th>Linear SVM</th>\n      <th>Naive Bayes</th>\n    </tr>\n  </thead>\n  <tbody>\n    <tr>\n      <th>0</th>\n      <td>2</td>\n      <td>1</td>\n      <td>3</td>\n    </tr>\n    <tr>\n      <th>1</th>\n      <td>3</td>\n      <td>1</td>\n      <td>2</td>\n    </tr>\n    <tr>\n      <th>2</th>\n      <td>3</td>\n      <td>1</td>\n      <td>2</td>\n    </tr>\n    <tr>\n      <th>3</th>\n      <td>3</td>\n      <td>1</td>\n      <td>2</td>\n    </tr>\n    <tr>\n      <th>4</th>\n      <td>3</td>\n      <td>1</td>\n      <td>2</td>\n    </tr>\n    <tr>\n      <th>5</th>\n      <td>3</td>\n      <td>1</td>\n      <td>2</td>\n    </tr>\n    <tr>\n      <th>6</th>\n      <td>3</td>\n      <td>1</td>\n      <td>2</td>\n    </tr>\n    <tr>\n      <th>7</th>\n      <td>3</td>\n      <td>1</td>\n      <td>2</td>\n    </tr>\n    <tr>\n      <th>8</th>\n      <td>3</td>\n      <td>1</td>\n      <td>2</td>\n    </tr>\n    <tr>\n      <th>9</th>\n      <td>3</td>\n      <td>1</td>\n      <td>2</td>\n    </tr>\n  </tbody>\n</table>\n</div>"
     },
     "execution_count": 82,
     "metadata": {},
     "output_type": "execute_result"
    }
   ],
   "source": [
    "#Calculate the ranks of training time metrics\n",
    "training_time_metrics_ranking = calculate_rank(training_time_metrics)\n",
    "training_time_metrics_ranking"
   ],
   "metadata": {
    "collapsed": false,
    "pycharm": {
     "name": "#%%\n"
    }
   }
  },
  {
   "cell_type": "code",
   "execution_count": 86,
   "outputs": [
    {
     "data": {
      "text/plain": "    Nearest Neighbors  Linear SVM  Naive Bayes\n1            0.759219    0.928416     0.843818\n2            0.780435    0.926087     0.863043\n3            0.784783    0.897826     0.878261\n4            0.800000    0.941304     0.867391\n5            0.821739    0.845652     0.884783\n6            0.821739    0.928261     0.828261\n7            0.808696    0.956522     0.832609\n8            0.815217    0.923913     0.867391\n9            0.713043    0.858696     0.634783\n10           0.736957    0.858696     0.717391",
      "text/html": "<div>\n<style scoped>\n    .dataframe tbody tr th:only-of-type {\n        vertical-align: middle;\n    }\n\n    .dataframe tbody tr th {\n        vertical-align: top;\n    }\n\n    .dataframe thead th {\n        text-align: right;\n    }\n</style>\n<table border=\"1\" class=\"dataframe\">\n  <thead>\n    <tr style=\"text-align: right;\">\n      <th></th>\n      <th>Nearest Neighbors</th>\n      <th>Linear SVM</th>\n      <th>Naive Bayes</th>\n    </tr>\n  </thead>\n  <tbody>\n    <tr>\n      <th>1</th>\n      <td>0.759219</td>\n      <td>0.928416</td>\n      <td>0.843818</td>\n    </tr>\n    <tr>\n      <th>2</th>\n      <td>0.780435</td>\n      <td>0.926087</td>\n      <td>0.863043</td>\n    </tr>\n    <tr>\n      <th>3</th>\n      <td>0.784783</td>\n      <td>0.897826</td>\n      <td>0.878261</td>\n    </tr>\n    <tr>\n      <th>4</th>\n      <td>0.800000</td>\n      <td>0.941304</td>\n      <td>0.867391</td>\n    </tr>\n    <tr>\n      <th>5</th>\n      <td>0.821739</td>\n      <td>0.845652</td>\n      <td>0.884783</td>\n    </tr>\n    <tr>\n      <th>6</th>\n      <td>0.821739</td>\n      <td>0.928261</td>\n      <td>0.828261</td>\n    </tr>\n    <tr>\n      <th>7</th>\n      <td>0.808696</td>\n      <td>0.956522</td>\n      <td>0.832609</td>\n    </tr>\n    <tr>\n      <th>8</th>\n      <td>0.815217</td>\n      <td>0.923913</td>\n      <td>0.867391</td>\n    </tr>\n    <tr>\n      <th>9</th>\n      <td>0.713043</td>\n      <td>0.858696</td>\n      <td>0.634783</td>\n    </tr>\n    <tr>\n      <th>10</th>\n      <td>0.736957</td>\n      <td>0.858696</td>\n      <td>0.717391</td>\n    </tr>\n  </tbody>\n</table>\n</div>"
     },
     "execution_count": 86,
     "metadata": {},
     "output_type": "execute_result"
    }
   ],
   "source": [
    "#) predictive performance based on accuracy,\n",
    "accuracy_metrics = pd.DataFrame(accuracy, index = fold)\n",
    "accuracy_metrics"
   ],
   "metadata": {
    "collapsed": false,
    "pycharm": {
     "name": "#%%\n"
    }
   }
  },
  {
   "cell_type": "code",
   "execution_count": 88,
   "outputs": [
    {
     "data": {
      "text/plain": "   Nearest Neighbors  Linear SVM  Naive Bayes\n0                  3           1            2\n1                  3           1            2\n2                  3           1            2\n3                  3           1            2\n4                  3           2            1\n5                  3           1            2\n6                  3           1            2\n7                  3           1            2\n8                  2           1            3\n9                  2           1            3",
      "text/html": "<div>\n<style scoped>\n    .dataframe tbody tr th:only-of-type {\n        vertical-align: middle;\n    }\n\n    .dataframe tbody tr th {\n        vertical-align: top;\n    }\n\n    .dataframe thead th {\n        text-align: right;\n    }\n</style>\n<table border=\"1\" class=\"dataframe\">\n  <thead>\n    <tr style=\"text-align: right;\">\n      <th></th>\n      <th>Nearest Neighbors</th>\n      <th>Linear SVM</th>\n      <th>Naive Bayes</th>\n    </tr>\n  </thead>\n  <tbody>\n    <tr>\n      <th>0</th>\n      <td>3</td>\n      <td>1</td>\n      <td>2</td>\n    </tr>\n    <tr>\n      <th>1</th>\n      <td>3</td>\n      <td>1</td>\n      <td>2</td>\n    </tr>\n    <tr>\n      <th>2</th>\n      <td>3</td>\n      <td>1</td>\n      <td>2</td>\n    </tr>\n    <tr>\n      <th>3</th>\n      <td>3</td>\n      <td>1</td>\n      <td>2</td>\n    </tr>\n    <tr>\n      <th>4</th>\n      <td>3</td>\n      <td>2</td>\n      <td>1</td>\n    </tr>\n    <tr>\n      <th>5</th>\n      <td>3</td>\n      <td>1</td>\n      <td>2</td>\n    </tr>\n    <tr>\n      <th>6</th>\n      <td>3</td>\n      <td>1</td>\n      <td>2</td>\n    </tr>\n    <tr>\n      <th>7</th>\n      <td>3</td>\n      <td>1</td>\n      <td>2</td>\n    </tr>\n    <tr>\n      <th>8</th>\n      <td>2</td>\n      <td>1</td>\n      <td>3</td>\n    </tr>\n    <tr>\n      <th>9</th>\n      <td>2</td>\n      <td>1</td>\n      <td>3</td>\n    </tr>\n  </tbody>\n</table>\n</div>"
     },
     "execution_count": 88,
     "metadata": {},
     "output_type": "execute_result"
    }
   ],
   "source": [
    "#Calculate the ranks of accuracy metrics\n",
    "accuracy_metrics_ranking = calculate_rank(accuracy_metrics)\n",
    "accuracy_metrics_ranking"
   ],
   "metadata": {
    "collapsed": false,
    "pycharm": {
     "name": "#%%\n"
    }
   }
  },
  {
   "cell_type": "code",
   "execution_count": 90,
   "outputs": [
    {
     "data": {
      "text/plain": "    Nearest Neighbors  Linear SVM  Naive Bayes\n1            0.687324    0.907042     0.829384\n2            0.718663    0.905556     0.849642\n3            0.717949    0.869806     0.864078\n4            0.732558    0.925620     0.853717\n5            0.772222    0.817481     0.865823\n6            0.781915    0.911051     0.819222\n7            0.733333    0.942857     0.820513\n8            0.763231    0.901408     0.847880\n9            0.659794    0.826667     0.669291\n10           0.684073    0.815864     0.711111",
      "text/html": "<div>\n<style scoped>\n    .dataframe tbody tr th:only-of-type {\n        vertical-align: middle;\n    }\n\n    .dataframe tbody tr th {\n        vertical-align: top;\n    }\n\n    .dataframe thead th {\n        text-align: right;\n    }\n</style>\n<table border=\"1\" class=\"dataframe\">\n  <thead>\n    <tr style=\"text-align: right;\">\n      <th></th>\n      <th>Nearest Neighbors</th>\n      <th>Linear SVM</th>\n      <th>Naive Bayes</th>\n    </tr>\n  </thead>\n  <tbody>\n    <tr>\n      <th>1</th>\n      <td>0.687324</td>\n      <td>0.907042</td>\n      <td>0.829384</td>\n    </tr>\n    <tr>\n      <th>2</th>\n      <td>0.718663</td>\n      <td>0.905556</td>\n      <td>0.849642</td>\n    </tr>\n    <tr>\n      <th>3</th>\n      <td>0.717949</td>\n      <td>0.869806</td>\n      <td>0.864078</td>\n    </tr>\n    <tr>\n      <th>4</th>\n      <td>0.732558</td>\n      <td>0.925620</td>\n      <td>0.853717</td>\n    </tr>\n    <tr>\n      <th>5</th>\n      <td>0.772222</td>\n      <td>0.817481</td>\n      <td>0.865823</td>\n    </tr>\n    <tr>\n      <th>6</th>\n      <td>0.781915</td>\n      <td>0.911051</td>\n      <td>0.819222</td>\n    </tr>\n    <tr>\n      <th>7</th>\n      <td>0.733333</td>\n      <td>0.942857</td>\n      <td>0.820513</td>\n    </tr>\n    <tr>\n      <th>8</th>\n      <td>0.763231</td>\n      <td>0.901408</td>\n      <td>0.847880</td>\n    </tr>\n    <tr>\n      <th>9</th>\n      <td>0.659794</td>\n      <td>0.826667</td>\n      <td>0.669291</td>\n    </tr>\n    <tr>\n      <th>10</th>\n      <td>0.684073</td>\n      <td>0.815864</td>\n      <td>0.711111</td>\n    </tr>\n  </tbody>\n</table>\n</div>"
     },
     "execution_count": 90,
     "metadata": {},
     "output_type": "execute_result"
    }
   ],
   "source": [
    "#3) predictive performance based on F-measure.\n",
    "f_measure_metrics = pd.DataFrame(f_measure, index = fold)\n",
    "f_measure_metrics"
   ],
   "metadata": {
    "collapsed": false,
    "pycharm": {
     "name": "#%%\n"
    }
   }
  },
  {
   "cell_type": "code",
   "execution_count": 91,
   "outputs": [
    {
     "data": {
      "text/plain": "   Nearest Neighbors  Linear SVM  Naive Bayes\n0                  3           1            2\n1                  3           1            2\n2                  3           1            2\n3                  3           1            2\n4                  3           2            1\n5                  3           1            2\n6                  3           1            2\n7                  3           1            2\n8                  3           1            2\n9                  3           1            2",
      "text/html": "<div>\n<style scoped>\n    .dataframe tbody tr th:only-of-type {\n        vertical-align: middle;\n    }\n\n    .dataframe tbody tr th {\n        vertical-align: top;\n    }\n\n    .dataframe thead th {\n        text-align: right;\n    }\n</style>\n<table border=\"1\" class=\"dataframe\">\n  <thead>\n    <tr style=\"text-align: right;\">\n      <th></th>\n      <th>Nearest Neighbors</th>\n      <th>Linear SVM</th>\n      <th>Naive Bayes</th>\n    </tr>\n  </thead>\n  <tbody>\n    <tr>\n      <th>0</th>\n      <td>3</td>\n      <td>1</td>\n      <td>2</td>\n    </tr>\n    <tr>\n      <th>1</th>\n      <td>3</td>\n      <td>1</td>\n      <td>2</td>\n    </tr>\n    <tr>\n      <th>2</th>\n      <td>3</td>\n      <td>1</td>\n      <td>2</td>\n    </tr>\n    <tr>\n      <th>3</th>\n      <td>3</td>\n      <td>1</td>\n      <td>2</td>\n    </tr>\n    <tr>\n      <th>4</th>\n      <td>3</td>\n      <td>2</td>\n      <td>1</td>\n    </tr>\n    <tr>\n      <th>5</th>\n      <td>3</td>\n      <td>1</td>\n      <td>2</td>\n    </tr>\n    <tr>\n      <th>6</th>\n      <td>3</td>\n      <td>1</td>\n      <td>2</td>\n    </tr>\n    <tr>\n      <th>7</th>\n      <td>3</td>\n      <td>1</td>\n      <td>2</td>\n    </tr>\n    <tr>\n      <th>8</th>\n      <td>3</td>\n      <td>1</td>\n      <td>2</td>\n    </tr>\n    <tr>\n      <th>9</th>\n      <td>3</td>\n      <td>1</td>\n      <td>2</td>\n    </tr>\n  </tbody>\n</table>\n</div>"
     },
     "execution_count": 91,
     "metadata": {},
     "output_type": "execute_result"
    }
   ],
   "source": [
    "#Calculate the ranks of f measure metrics\n",
    "f_measure_metrics_ranking = calculate_rank(f_measure_metrics)\n",
    "f_measure_metrics_ranking"
   ],
   "metadata": {
    "collapsed": false,
    "pycharm": {
     "name": "#%%\n"
    }
   }
  },
  {
   "cell_type": "code",
   "execution_count": 92,
   "outputs": [
    {
     "data": {
      "text/plain": "Nearest Neighbors    2.9\nLinear SVM           1.0\nNaive Bayes          2.1\ndtype: float64"
     },
     "execution_count": 92,
     "metadata": {},
     "output_type": "execute_result"
    }
   ],
   "source": [
    "rank_avg_training_time_metrics = training_time_metrics_ranking.mean(axis=0)\n",
    "rank_avg_training_time_metrics"
   ],
   "metadata": {
    "collapsed": false,
    "pycharm": {
     "name": "#%%\n"
    }
   }
  },
  {
   "cell_type": "code",
   "execution_count": 94,
   "outputs": [
    {
     "data": {
      "text/plain": "Nearest Neighbors    2.8\nLinear SVM           1.1\nNaive Bayes          2.1\ndtype: float64"
     },
     "execution_count": 94,
     "metadata": {},
     "output_type": "execute_result"
    }
   ],
   "source": [
    "rank_avg_accuracy_metrics = accuracy_metrics_ranking.mean(axis=0)\n",
    "rank_avg_accuracy_metrics"
   ],
   "metadata": {
    "collapsed": false,
    "pycharm": {
     "name": "#%%\n"
    }
   }
  },
  {
   "cell_type": "code",
   "execution_count": 97,
   "outputs": [
    {
     "data": {
      "text/plain": "Nearest Neighbors    3.0\nLinear SVM           1.1\nNaive Bayes          1.9\ndtype: float64"
     },
     "execution_count": 97,
     "metadata": {},
     "output_type": "execute_result"
    }
   ],
   "source": [
    "rank_avg_f_measure_metrics = f_measure_metrics_ranking.mean(axis=0)\n",
    "rank_avg_f_measure_metrics"
   ],
   "metadata": {
    "collapsed": false,
    "pycharm": {
     "name": "#%%\n"
    }
   }
  },
  {
   "cell_type": "code",
   "execution_count": 103,
   "outputs": [],
   "source": [
    "#Finding the sum of squared differences\n",
    "def sum_of_squared_differences_1(rank_avg):\n",
    "    sum = 0\n",
    "    for x in rank_avg.values:\n",
    "        sum = sum + (x - 2) ** 2\n",
    "    sum_of_squared_differences_1 = 10 * sum\n",
    "    return sum_of_squared_differences_1"
   ],
   "metadata": {
    "collapsed": false,
    "pycharm": {
     "name": "#%%\n"
    }
   }
  },
  {
   "cell_type": "code",
   "execution_count": 104,
   "outputs": [],
   "source": [
    "#Finding the sum of squared differences 2\n",
    "def sum_of_squared_differences_2(ranking_df):\n",
    "    summation = 0\n",
    "    for index, row in ranking_df.iterrows():\n",
    "        summation = summation + ((row[0] - 2) ** 2) + ((row[1] - 2) ** 2) + ((row[2] - 2) ** 2)\n",
    "    sum_of_squared_differences_2 = summation * 0.05\n",
    "    return sum_of_squared_differences_2"
   ],
   "metadata": {
    "collapsed": false,
    "pycharm": {
     "name": "#%%\n"
    }
   }
  },
  {
   "cell_type": "code",
   "execution_count": 105,
   "outputs": [
    {
     "data": {
      "text/plain": "7.814727903251179"
     },
     "execution_count": 105,
     "metadata": {},
     "output_type": "execute_result"
    }
   ],
   "source": [
    "#Finding p-value\n",
    "p_value = scipy.stats.chi2.ppf(0.95, 3)\n",
    "p_value"
   ],
   "metadata": {
    "collapsed": false,
    "pycharm": {
     "name": "#%%\n"
    }
   }
  },
  {
   "cell_type": "code",
   "execution_count": 106,
   "outputs": [],
   "source": [
    "def friedman_statistic(rank_avg, ranking_df):\n",
    "    friedman_statistic = sum_of_squared_differences_1(rank_avg) / sum_of_squared_differences_2(ranking_df)\n",
    "    decision = \"greater than \" if friedman_statistic > p_value else \"less than \"\n",
    "    decision2 = \"can \" if friedman_statistic > p_value else \"can no \"\n",
    "    print(\"Since the Friedman statistic \" + str(friedman_statistic) + \" is \" + decision + str(p_value) + \" so we \" + decision2 + \"reject the null hypothesis that all algorithms perform equally\")"
   ],
   "metadata": {
    "collapsed": false,
    "pycharm": {
     "name": "#%%\n"
    }
   }
  },
  {
   "cell_type": "code",
   "execution_count": 107,
   "outputs": [
    {
     "name": "stdout",
     "output_type": "stream",
     "text": [
      "Since the Friedman statistic 18.2 is greater than 7.814727903251179 so we can reject the null hypothesis that all algorithms perform equally\n"
     ]
    }
   ],
   "source": [
    "# Training time metrics Friedman statistic\n",
    "friedman_statistic(rank_avg_training_time_metrics, training_time_metrics_ranking)"
   ],
   "metadata": {
    "collapsed": false,
    "pycharm": {
     "name": "#%%\n"
    }
   }
  },
  {
   "cell_type": "code",
   "execution_count": 108,
   "outputs": [
    {
     "name": "stdout",
     "output_type": "stream",
     "text": [
      "Since the Friedman statistic 14.599999999999994 is greater than 7.814727903251179 so we can reject the null hypothesis that all algorithms perform equally\n"
     ]
    }
   ],
   "source": [
    "# Accuracy metrics Friedman statistic\n",
    "friedman_statistic(rank_avg_accuracy_metrics, accuracy_metrics_ranking)"
   ],
   "metadata": {
    "collapsed": false,
    "pycharm": {
     "name": "#%%\n"
    }
   }
  },
  {
   "cell_type": "code",
   "execution_count": 109,
   "outputs": [
    {
     "name": "stdout",
     "output_type": "stream",
     "text": [
      "Since the Friedman statistic 18.2 is greater than 7.814727903251179 so we can reject the null hypothesis that all algorithms perform equally\n"
     ]
    }
   ],
   "source": [
    "# F Measure metrics Friedman statistic\n",
    "friedman_statistic(rank_avg_f_measure_metrics, f_measure_metrics_ranking)"
   ],
   "metadata": {
    "collapsed": false,
    "pycharm": {
     "name": "#%%\n"
    }
   }
  },
  {
   "cell_type": "code",
   "execution_count": 110,
   "outputs": [
    {
     "data": {
      "text/plain": "1.0478214542564015"
     },
     "execution_count": 110,
     "metadata": {},
     "output_type": "execute_result"
    }
   ],
   "source": [
    "#Finding critical difference (CD) using Nemenyi test\n",
    "#The q alpha 2.343 is taken from the course textbook and also from this link https://plos.figshare.com/articles/dataset/Critical_values_for_the_two-tailed_Nemenyi_test_/7299293/1\n",
    "#k = 3, n =  10\n",
    "\n",
    "cd = 2.343 * math.sqrt(3 * (3 + 1) / (6 * 10))\n",
    "cd"
   ],
   "metadata": {
    "collapsed": false,
    "pycharm": {
     "name": "#%%\n"
    }
   }
  },
  {
   "cell_type": "code",
   "execution_count": 111,
   "outputs": [],
   "source": [
    "#Nearest Neighbors - rank_avg[0]\n",
    "#Linear SVM - rank_avg[1]\n",
    "#Naive Bayes - rank_avg[2]\n",
    "def critical_difference(rank_avg):\n",
    "    no_of_means__of_ranks = len(rank_avg)\n",
    "    for i in range(no_of_means__of_ranks - 1):\n",
    "        for j in range(i + 1, no_of_means__of_ranks):\n",
    "            diff = abs(rank_avg[i] - rank_avg[j])\n",
    "            decision = \" and it exceeds the critical difference \" if diff > cd else \" and does not exceeds the critical difference \"\n",
    "            print(\"The difference of \" + rank_avg.index[i] + \" - \" + str(rank_avg[i])  + \" and \" + rank_avg.index[j] + \" - \" + str(rank_avg[j]) + \" is \" + str(diff) +  decision + str(cd))\n"
   ],
   "metadata": {
    "collapsed": false,
    "pycharm": {
     "name": "#%%\n"
    }
   }
  },
  {
   "cell_type": "code",
   "execution_count": 112,
   "outputs": [
    {
     "name": "stdout",
     "output_type": "stream",
     "text": [
      "The difference of Nearest Neighbors - 2.9 and Linear SVM - 1.0 is 1.9 and it exceeds the critical difference 1.0478214542564015\n",
      "The difference of Nearest Neighbors - 2.9 and Naive Bayes - 2.1 is 0.7999999999999998 and does not exceeds the critical difference 1.0478214542564015\n",
      "The difference of Linear SVM - 1.0 and Naive Bayes - 2.1 is 1.1 and it exceeds the critical difference 1.0478214542564015\n"
     ]
    }
   ],
   "source": [
    "# Training time metrics Nemenyi test\n",
    "critical_difference(rank_avg_training_time_metrics)"
   ],
   "metadata": {
    "collapsed": false,
    "pycharm": {
     "name": "#%%\n"
    }
   }
  },
  {
   "cell_type": "code",
   "execution_count": 113,
   "outputs": [
    {
     "name": "stdout",
     "output_type": "stream",
     "text": [
      "The difference of Nearest Neighbors - 2.8 and Linear SVM - 1.1 is 1.6999999999999997 and it exceeds the critical difference 1.0478214542564015\n",
      "The difference of Nearest Neighbors - 2.8 and Naive Bayes - 2.1 is 0.6999999999999997 and does not exceeds the critical difference 1.0478214542564015\n",
      "The difference of Linear SVM - 1.1 and Naive Bayes - 2.1 is 1.0 and does not exceeds the critical difference 1.0478214542564015\n"
     ]
    }
   ],
   "source": [
    "# Accuracy metrics Nemenyi test\n",
    "critical_difference(rank_avg_accuracy_metrics)"
   ],
   "metadata": {
    "collapsed": false,
    "pycharm": {
     "name": "#%%\n"
    }
   }
  },
  {
   "cell_type": "code",
   "execution_count": 114,
   "outputs": [
    {
     "name": "stdout",
     "output_type": "stream",
     "text": [
      "The difference of Nearest Neighbors - 3.0 and Linear SVM - 1.1 is 1.9 and it exceeds the critical difference 1.0478214542564015\n",
      "The difference of Nearest Neighbors - 3.0 and Naive Bayes - 1.9 is 1.1 and it exceeds the critical difference 1.0478214542564015\n",
      "The difference of Linear SVM - 1.1 and Naive Bayes - 1.9 is 0.7999999999999998 and does not exceeds the critical difference 1.0478214542564015\n"
     ]
    }
   ],
   "source": [
    "# F Measure Nemenyi test\n",
    "critical_difference(rank_avg_f_measure_metrics)"
   ],
   "metadata": {
    "collapsed": false,
    "pycharm": {
     "name": "#%%\n"
    }
   }
  },
  {
   "cell_type": "code",
   "execution_count": null,
   "outputs": [],
   "source": [],
   "metadata": {
    "collapsed": false,
    "pycharm": {
     "name": "#%%\n"
    }
   }
  }
 ],
 "metadata": {
  "kernelspec": {
   "display_name": "Python 3",
   "language": "python",
   "name": "python3"
  },
  "language_info": {
   "codemirror_mode": {
    "name": "ipython",
    "version": 2
   },
   "file_extension": ".py",
   "mimetype": "text/x-python",
   "name": "python",
   "nbconvert_exporter": "python",
   "pygments_lexer": "ipython2",
   "version": "2.7.6"
  }
 },
 "nbformat": 4,
 "nbformat_minor": 0
}